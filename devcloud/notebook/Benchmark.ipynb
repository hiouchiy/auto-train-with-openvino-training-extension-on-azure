{
 "cells": [
  {
   "cell_type": "code",
   "execution_count": null,
   "id": "dd90f4ad",
   "metadata": {},
   "outputs": [],
   "source": [
    "!wget https://hitachiintel2021.blob.core.windows.net/model/model.xml\n",
    "!wget https://hitachiintel2021.blob.core.windows.net/model/model.bin"
   ]
  },
  {
   "cell_type": "code",
   "execution_count": null,
   "id": "6796be54",
   "metadata": {},
   "outputs": [],
   "source": [
    "!ls"
   ]
  },
  {
   "cell_type": "code",
   "execution_count": null,
   "id": "aec0e029",
   "metadata": {},
   "outputs": [],
   "source": [
    "!pbsnodes | grep \"properties =\" | sort | uniq -c"
   ]
  },
  {
   "cell_type": "code",
   "execution_count": null,
   "id": "5045d393",
   "metadata": {},
   "outputs": [],
   "source": [
    "!pwd\n",
    "!cp -r $INTEL_OPENVINO_DIR/deployment_tools/tools/benchmark_tool .\n",
    "!ls -l benchmark_tool"
   ]
  },
  {
   "cell_type": "markdown",
   "id": "2fe19040",
   "metadata": {},
   "source": [
    "## 計算ノードで実行するスクリプトを作成 "
   ]
  },
  {
   "cell_type": "code",
   "execution_count": null,
   "id": "c4f5a2ab",
   "metadata": {},
   "outputs": [],
   "source": [
    "%%writefile job.sh\n",
    "cd ~/\n",
    "pip3 install -r benchmark_tool/requirements.txt\n",
    "python3 benchmark_tool/benchmark_app.py \\\n",
    "        -m model.xml \\\n",
    "        -niter 100 \\\n",
    "        $*\n",
    "echo completed"
   ]
  },
  {
   "cell_type": "markdown",
   "id": "81f37085",
   "metadata": {},
   "source": [
    "## 計算ノードへジョブを投げて、完了までモニタリングするPythonプログラムを作成"
   ]
  },
  {
   "cell_type": "code",
   "execution_count": null,
   "id": "252f980d",
   "metadata": {},
   "outputs": [],
   "source": [
    "import time\n",
    "def waitForJobCompletion(jobNumber):\n",
    "    print('Waiting for job completion...', end='')\n",
    "    running=True\n",
    "    while running:\n",
    "        time.sleep(1)\n",
    "        running=False\n",
    "        status_list=!qstat         # Check job status\n",
    "        for status in status_list:\n",
    "            if jobNumber in status:    # if job_num is found in the status list, the job is still running\n",
    "                running = True\n",
    "        print(status.split()[4], end='')\n",
    "    print('...Job {} completed'.format(job_num))\n",
    "    \n",
    "    # 1つ前のセルでlog_fileにログファイル名を入れている。環境変数にセットしてcatから使えるようにする\n",
    "    \n",
    "    os.environ['log_file']=log_file\n",
    "\n",
    "    !grep '# Resources:'                                  $log_file\n",
    "    !grep '\\[ INFO \\] Device info'                   -A 3 $log_file\n",
    "    !grep '\\[Step 11/11\\] Dumping statistics report' -A 4 $log_file\n",
    "    print(\"---------------------------------------------------------------------------------\")"
   ]
  },
  {
   "cell_type": "code",
   "execution_count": null,
   "id": "b38cf09a",
   "metadata": {},
   "outputs": [],
   "source": [
    "import os\n",
    "\n",
    "node_list = [\"e3950\", \"j3355\", \"i5-7500\", \"i7-8665ue\", \"i7-1065g7\", \"i7-1185g7e\", \"gold6338n\"]\n",
    "#node_list = [\"gold6338n\"]\n",
    "\n",
    "for node_name in node_list:\n",
    "    os.environ['node_name'] = node_name\n",
    "\n",
    "    job_id=!qsub -l nodes=1:$node_name job.sh -F \"-nireq 1 -nstreams 1 -b 1\"\n",
    "\n",
    "    # generate log file name from job_id\n",
    "    job_num = job_id[0].split('.')[0]\n",
    "    log_file='job.sh.o'+job_num\n",
    "    err_file='job.sh.e'+job_num\n",
    "    print('job_id={}, log_file={}'.format(job_id, log_file))\n",
    "\n",
    "    # wait for the job to complete\n",
    "    waitForJobCompletion(job_num)"
   ]
  },
  {
   "cell_type": "markdown",
   "id": "78987a0b",
   "metadata": {},
   "source": [
    "## Azure BLOB ストレージへアップロード"
   ]
  },
  {
   "cell_type": "code",
   "execution_count": null,
   "id": "b0810c0c",
   "metadata": {},
   "outputs": [],
   "source": [
    "!pip3 install azure-storage-blob"
   ]
  },
  {
   "cell_type": "code",
   "execution_count": null,
   "id": "6160bef8",
   "metadata": {},
   "outputs": [],
   "source": [
    "!pip3 list"
   ]
  },
  {
   "cell_type": "code",
   "execution_count": null,
   "id": "f066df37",
   "metadata": {
    "scrolled": true
   },
   "outputs": [],
   "source": [
    "import os, uuid\n",
    "from azure.storage.blob import BlobServiceClient, BlobClient, ContainerClient, __version__\n",
    "\n",
    "try:\n",
    "    print(\"Azure Blob Storage v\" + __version__ + \" - Python quickstart sample\")\n",
    "\n",
    "    # Quick start code goes here\n",
    "\n",
    "except Exception as ex:\n",
    "    print('Exception:')\n",
    "    print(ex)\n",
    "\n",
    "# Retrieve the connection string for use with the application. The storage\n",
    "# connection string is stored in an environment variable on the machine\n",
    "# running the application called AZURE_STORAGE_CONNECTION_STRING. If the environment variable is\n",
    "# created after the application is launched in a console or with Visual Studio,\n",
    "# the shell or application needs to be closed and reloaded to take the\n",
    "# environment variable into account.\n",
    "connect_str = \"DefaultEndpointsProtocol=https;AccountName=hitachiintel2021;AccountKey=Fr6XqoVLkGObclVigaO5ORZLE3jMpfdEdNsuKke5XApoovO4EyKEhMTm7AhLyp8vrYp4A5QAc52aZ/P/fGiT+A==;BlobEndpoint=https://hitachiintel2021.blob.core.windows.net/;QueueEndpoint=https://hitachiintel2021.queue.core.windows.net/;TableEndpoint=https://hitachiintel2021.table.core.windows.net/;FileEndpoint=https://hitachiintel2021.file.core.windows.net/;\"\n",
    "\n",
    "# Create the BlobServiceClient object which will be used to create a container client\n",
    "blob_service_client = BlobServiceClient.from_connection_string(connect_str)\n",
    "\n",
    "# Create a unique name for the container\n",
    "container_name = \"model\"\n",
    "\n",
    "# Create a file in the local data directory to upload and download\n",
    "local_xml_file_name = \"model.xml\"\n",
    "local_bin_file_name = \"model.bin\"\n",
    "\n",
    "# Create a blob client using the local file name as the name for the blob\n",
    "blob_client = blob_service_client.get_blob_client(container=container_name, blob=\"latest/\"+local_xml_file_name)\n",
    "\n",
    "print(\"\\nUploading to Azure Storage as blob:\\n\\t\" + local_xml_file_name)\n",
    "\n",
    "# Upload the created file\n",
    "with open(local_xml_file_name, \"rb\") as data:\n",
    "    blob_client.upload_blob(data, overwrite=True)\n",
    "\n",
    "\n",
    "# Create a blob client using the local file name as the name for the blob\n",
    "blob_client = blob_service_client.get_blob_client(container=container_name, blob=\"latest/\"+local_bin_file_name)\n",
    "\n",
    "print(\"\\nUploading to Azure Storage as blob:\\n\\t\" + local_bin_file_name)\n",
    "\n",
    "# Upload the created file\n",
    "with open(local_bin_file_name, \"rb\") as data:\n",
    "    blob_client.upload_blob(data, overwrite=True)\n",
    "    "
   ]
  },
  {
   "cell_type": "code",
   "execution_count": null,
   "id": "c84b8134",
   "metadata": {},
   "outputs": [],
   "source": []
  }
 ],
 "metadata": {
  "kernelspec": {
   "display_name": "Python 3 (OpenVINO 2021.3)",
   "language": "python",
   "name": "c003-python_3"
  },
  "language_info": {
   "codemirror_mode": {
    "name": "ipython",
    "version": 3
   },
   "file_extension": ".py",
   "mimetype": "text/x-python",
   "name": "python",
   "nbconvert_exporter": "python",
   "pygments_lexer": "ipython3",
   "version": "3.6.9"
  },
  "nbTranslate": {
   "displayLangs": [
    "*"
   ],
   "hotkey": "alt-t",
   "langInMainMenu": true,
   "sourceLang": "en",
   "targetLang": "fr",
   "useGoogleTranslate": true
  },
  "toc": {
   "base_numbering": 1,
   "nav_menu": {},
   "number_sections": true,
   "sideBar": true,
   "skip_h1_title": false,
   "title_cell": "Table of Contents",
   "title_sidebar": "Contents",
   "toc_cell": false,
   "toc_position": {},
   "toc_section_display": true,
   "toc_window_display": false
  }
 },
 "nbformat": 4,
 "nbformat_minor": 5
}
